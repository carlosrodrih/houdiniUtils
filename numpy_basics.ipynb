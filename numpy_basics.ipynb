{
 "cells": [
  {
   "cell_type": "code",
   "execution_count": 1,
   "id": "6f338c14-43a4-4d3e-bf8b-ea3c2f784f86",
   "metadata": {},
   "outputs": [
    {
     "name": "stdout",
     "output_type": "stream",
     "text": [
      "Package                   Version\n",
      "------------------------- --------------\n",
      "altair                    5.2.0\n",
      "anyio                     4.3.0\n",
      "argon2-cffi               23.1.0\n",
      "argon2-cffi-bindings      21.2.0\n",
      "arrow                     1.3.0\n",
      "asttokens                 2.4.1\n",
      "async-lru                 2.0.4\n",
      "attrs                     23.2.0\n",
      "Babel                     2.14.0\n",
      "beautifulsoup4            4.12.3\n",
      "bleach                    6.1.0\n",
      "blinker                   1.7.0\n",
      "cachetools                5.3.3\n",
      "certifi                   2024.2.2\n",
      "cffi                      1.16.0\n",
      "charset-normalizer        3.3.2\n",
      "click                     8.1.7\n",
      "colorama                  0.4.6\n",
      "comm                      0.2.2\n",
      "debugpy                   1.8.1\n",
      "decorator                 5.1.1\n",
      "defusedxml                0.7.1\n",
      "executing                 2.0.1\n",
      "fastjsonschema            2.19.1\n",
      "Flask                     3.0.2\n",
      "fqdn                      1.5.1\n",
      "gitdb                     4.0.11\n",
      "GitPython                 3.1.42\n",
      "google-api-core           2.17.1\n",
      "google-api-python-client  2.120.0\n",
      "google-auth               2.28.1\n",
      "google-auth-httplib2      0.2.0\n",
      "google-auth-oauthlib      1.2.0\n",
      "googleapis-common-protos  1.62.0\n",
      "h11                       0.14.0\n",
      "httpcore                  1.0.4\n",
      "httplib2                  0.22.0\n",
      "httpx                     0.27.0\n",
      "idna                      3.6\n",
      "ipykernel                 6.29.3\n",
      "ipython                   8.22.2\n",
      "isoduration               20.11.0\n",
      "itsdangerous              2.1.2\n",
      "jedi                      0.19.1\n",
      "Jinja2                    3.1.3\n",
      "json5                     0.9.24\n",
      "jsonpointer               2.4\n",
      "jsonschema                4.21.1\n",
      "jsonschema-specifications 2023.12.1\n",
      "jupyter_client            8.6.1\n",
      "jupyter_core              5.7.2\n",
      "jupyter-events            0.10.0\n",
      "jupyter-lsp               2.2.4\n",
      "jupyter_server            2.13.0\n",
      "jupyter_server_terminals  0.5.3\n",
      "jupyterlab                4.1.5\n",
      "jupyterlab_pygments       0.3.0\n",
      "jupyterlab_server         2.25.4\n",
      "markdown-it-py            3.0.0\n",
      "MarkupSafe                2.1.5\n",
      "matplotlib-inline         0.1.6\n",
      "mdurl                     0.1.2\n",
      "memory-profiler           0.61.0\n",
      "mistune                   3.0.2\n",
      "nbclient                  0.10.0\n",
      "nbconvert                 7.16.3\n",
      "nbformat                  5.10.3\n",
      "nest-asyncio              1.6.0\n",
      "notebook                  7.1.2\n",
      "notebook_shim             0.2.4\n",
      "numpy                     1.26.4\n",
      "oauthlib                  3.2.2\n",
      "overrides                 7.7.0\n",
      "packaging                 23.2\n",
      "pandas                    2.2.1\n",
      "pandocfilters             1.5.1\n",
      "parso                     0.8.3\n",
      "pillow                    10.2.0\n",
      "pip                       23.2.1\n",
      "platformdirs              4.2.0\n",
      "prometheus_client         0.20.0\n",
      "prompt-toolkit            3.0.43\n",
      "protobuf                  4.25.3\n",
      "psutil                    5.9.8\n",
      "pure-eval                 0.2.2\n",
      "pyarrow                   15.0.1\n",
      "pyasn1                    0.5.1\n",
      "pyasn1-modules            0.3.0\n",
      "pycparser                 2.21\n",
      "pydeck                    0.8.1b0\n",
      "Pygments                  2.17.2\n",
      "pyparsing                 3.1.1\n",
      "python-dateutil           2.9.0.post0\n",
      "python-json-logger        2.0.7\n",
      "pytz                      2024.1\n",
      "pywin32                   306\n",
      "pywinpty                  2.0.13\n",
      "PyYAML                    6.0.1\n",
      "pyzmq                     25.1.2\n",
      "referencing               0.33.0\n",
      "requests                  2.31.0\n",
      "requests-oauthlib         1.3.1\n",
      "rfc3339-validator         0.1.4\n",
      "rfc3986-validator         0.1.1\n",
      "rich                      13.7.1\n",
      "rpds-py                   0.18.0\n",
      "rsa                       4.9\n",
      "Send2Trash                1.8.2\n",
      "setuptools                65.5.0\n",
      "six                       1.16.0\n",
      "smmap                     5.0.1\n",
      "snakeviz                  2.2.0\n",
      "sniffio                   1.3.1\n",
      "soupsieve                 2.5\n",
      "stack-data                0.6.3\n",
      "streamlit                 1.32.1\n",
      "tenacity                  8.2.3\n",
      "terminado                 0.18.1\n",
      "tinycss2                  1.2.1\n",
      "toml                      0.10.2\n",
      "toolz                     0.12.1\n",
      "tornado                   6.4\n",
      "traitlets                 5.14.2\n",
      "types-python-dateutil     2.9.0.20240316\n",
      "typing_extensions         4.10.0\n",
      "tzdata                    2024.1\n",
      "uri-template              1.3.0\n",
      "uritemplate               4.1.1\n",
      "urllib3                   2.2.1\n",
      "watchdog                  4.0.0\n",
      "wcwidth                   0.2.13\n",
      "webcolors                 1.13\n",
      "webencodings              0.5.1\n",
      "websocket-client          1.7.0\n",
      "Werkzeug                  3.0.1\n"
     ]
    },
    {
     "name": "stderr",
     "output_type": "stream",
     "text": [
      "\n",
      "[notice] A new release of pip is available: 23.2.1 -> 24.0\n",
      "[notice] To update, run: C:\\Users\\carlo\\AppData\\Local\\Programs\\Python\\Python311\\python.exe -m pip install --upgrade pip\n"
     ]
    }
   ],
   "source": [
    "!pip list"
   ]
  },
  {
   "cell_type": "code",
   "execution_count": 2,
   "id": "22574e7f-25b7-4605-99eb-e2591578b134",
   "metadata": {},
   "outputs": [],
   "source": [
    "import numpy as np"
   ]
  },
  {
   "cell_type": "code",
   "execution_count": 3,
   "id": "064741dc-89e2-484f-8a25-c9d263539dc2",
   "metadata": {},
   "outputs": [],
   "source": [
    "my_list = [1,2,3,4,5]\n",
    "np_a1 = np.array(my_list)"
   ]
  },
  {
   "cell_type": "code",
   "execution_count": 4,
   "id": "42e58c8f-b2fc-4ea8-b759-02da041ada0e",
   "metadata": {},
   "outputs": [
    {
     "data": {
      "text/plain": [
       "array([1, 2, 3, 4, 5])"
      ]
     },
     "execution_count": 4,
     "metadata": {},
     "output_type": "execute_result"
    }
   ],
   "source": [
    "np_a1"
   ]
  },
  {
   "cell_type": "code",
   "execution_count": 5,
   "id": "9368e6db-4d57-4a40-8098-a8cdfdff6385",
   "metadata": {},
   "outputs": [
    {
     "data": {
      "text/plain": [
       "array([ 0,  1,  2,  3,  4,  5,  6,  7,  8,  9, 10, 11, 12, 13, 14, 15, 16,\n",
       "       17, 18, 19, 20, 21, 22, 23, 24, 25, 26, 27, 28, 29, 30, 31, 32, 33,\n",
       "       34, 35, 36, 37, 38, 39, 40, 41, 42, 43, 44, 45, 46, 47, 48, 49, 50,\n",
       "       51, 52, 53, 54, 55, 56, 57, 58, 59, 60, 61, 62, 63, 64, 65, 66, 67,\n",
       "       68, 69, 70, 71, 72, 73, 74, 75, 76, 77, 78, 79, 80, 81, 82, 83, 84,\n",
       "       85, 86, 87, 88, 89, 90, 91, 92, 93, 94, 95, 96, 97, 98, 99])"
      ]
     },
     "execution_count": 5,
     "metadata": {},
     "output_type": "execute_result"
    }
   ],
   "source": [
    "np.arange(0,100)"
   ]
  },
  {
   "cell_type": "code",
   "execution_count": 8,
   "id": "db23556f-8994-4196-9d3a-8926954d0a8f",
   "metadata": {},
   "outputs": [
    {
     "data": {
      "text/plain": [
       "array([ 0,  2,  4,  6,  8, 10, 12, 14, 16, 18, 20, 22, 24, 26, 28, 30, 32,\n",
       "       34, 36, 38, 40, 42, 44, 46, 48, 50, 52, 54, 56, 58, 60, 62, 64, 66,\n",
       "       68, 70, 72, 74, 76, 78, 80, 82, 84, 86, 88, 90, 92, 94, 96, 98])"
      ]
     },
     "execution_count": 8,
     "metadata": {},
     "output_type": "execute_result"
    }
   ],
   "source": [
    "np.arange(0,100,2)"
   ]
  },
  {
   "cell_type": "code",
   "execution_count": 9,
   "id": "992dd0a5-3e05-4329-8c49-c14171746c9d",
   "metadata": {},
   "outputs": [
    {
     "data": {
      "text/plain": [
       "array([[1., 0., 0., 0.],\n",
       "       [0., 1., 0., 0.],\n",
       "       [0., 0., 1., 0.],\n",
       "       [0., 0., 0., 1.]])"
      ]
     },
     "execution_count": 9,
     "metadata": {},
     "output_type": "execute_result"
    }
   ],
   "source": [
    "np.eye(4)"
   ]
  },
  {
   "cell_type": "code",
   "execution_count": null,
   "id": "1333f93a-df32-4436-9d71-e9ed582a6300",
   "metadata": {},
   "outputs": [],
   "source": []
  }
 ],
 "metadata": {
  "kernelspec": {
   "display_name": "Python 3 (ipykernel)",
   "language": "python",
   "name": "python3"
  },
  "language_info": {
   "codemirror_mode": {
    "name": "ipython",
    "version": 3
   },
   "file_extension": ".py",
   "mimetype": "text/x-python",
   "name": "python",
   "nbconvert_exporter": "python",
   "pygments_lexer": "ipython3",
   "version": "3.11.5"
  }
 },
 "nbformat": 4,
 "nbformat_minor": 5
}
